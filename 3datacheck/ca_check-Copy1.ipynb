{
 "cells": [
  {
   "cell_type": "code",
   "execution_count": 4,
   "id": "731b4896-d9c6-4f72-87b3-908e78450bd5",
   "metadata": {},
   "outputs": [
    {
     "name": "stdout",
     "output_type": "stream",
     "text": [
      "Found 8 .npz files in /scratch/bowenxi/dit/neural_tangent_kernel/feature_swin_b/auto_ML_CA_1/auto_ML_CA/\n",
      "\n",
      "[1/8] Processing /scratch/bowenxi/dit/neural_tangent_kernel/feature_swin_b/auto_ML_CA_1/auto_ML_CA/increment_1_train_tangent.npz\n",
      "\n",
      "Loading: /scratch/bowenxi/dit/neural_tangent_kernel/feature_swin_b/auto_ML_CA_1/auto_ML_CA/increment_1_train_tangent.npz\n",
      "Features shape: (2305167, 1024), Labels shape: (2305167,)\n",
      "[NumPy] Loaded features -> min: -25072842.0000, max: 22132024.0000, mean: 81258.4375\n",
      "[Torch] A = F^T F / n -> min: -108746206347264.0000, max: 116082505416704.0000, mean: 6772740608.0000\n"
     ]
    },
    {
     "ename": "OutOfMemoryError",
     "evalue": "CUDA out of memory. Tried to allocate 8.79 GiB. GPU 0 has a total capacity of 79.20 GiB of which 3.15 GiB is free. Process 171519 has 57.55 GiB memory in use. Including non-PyTorch memory, this process has 18.49 GiB memory in use. Of the allocated memory 17.62 GiB is allocated by PyTorch, and 18.88 MiB is reserved by PyTorch but unallocated. If reserved but unallocated memory is large try setting PYTORCH_CUDA_ALLOC_CONF=expandable_segments:True to avoid fragmentation.  See documentation for Memory Management  (https://pytorch.org/docs/stable/notes/cuda.html#environment-variables)",
     "output_type": "error",
     "traceback": [
      "\u001b[31m---------------------------------------------------------------------------\u001b[39m",
      "\u001b[31mOutOfMemoryError\u001b[39m                          Traceback (most recent call last)",
      "\u001b[36mCell\u001b[39m\u001b[36m \u001b[39m\u001b[32mIn[4]\u001b[39m\u001b[32m, line 57\u001b[39m\n\u001b[32m     55\u001b[39m \u001b[38;5;66;03m# ---- Run on Folder ----\u001b[39;00m\n\u001b[32m     56\u001b[39m folder_path = \u001b[33m\"\u001b[39m\u001b[33m/scratch/bowenxi/dit/neural_tangent_kernel/feature_swin_b/auto_ML_CA_1/auto_ML_CA/\u001b[39m\u001b[33m\"\u001b[39m\n\u001b[32m---> \u001b[39m\u001b[32m57\u001b[39m \u001b[43mprocess_all_npz_files\u001b[49m\u001b[43m(\u001b[49m\u001b[43mfolder_path\u001b[49m\u001b[43m)\u001b[49m\n",
      "\u001b[36mCell\u001b[39m\u001b[36m \u001b[39m\u001b[32mIn[4]\u001b[39m\u001b[32m, line 53\u001b[39m, in \u001b[36mprocess_all_npz_files\u001b[39m\u001b[34m(folder_path)\u001b[39m\n\u001b[32m     51\u001b[39m \u001b[38;5;28mprint\u001b[39m(\u001b[33mf\u001b[39m\u001b[33m\"\u001b[39m\u001b[38;5;130;01m\\n\u001b[39;00m\u001b[33m[\u001b[39m\u001b[38;5;132;01m{\u001b[39;00mi+\u001b[32m1\u001b[39m\u001b[38;5;132;01m}\u001b[39;00m\u001b[33m/\u001b[39m\u001b[38;5;132;01m{\u001b[39;00m\u001b[38;5;28mlen\u001b[39m(npz_files)\u001b[38;5;132;01m}\u001b[39;00m\u001b[33m] Processing \u001b[39m\u001b[38;5;132;01m{\u001b[39;00mfile_path\u001b[38;5;132;01m}\u001b[39;00m\u001b[33m\"\u001b[39m)\n\u001b[32m     52\u001b[39m features, labels = load_npz_features(file_path)\n\u001b[32m---> \u001b[39m\u001b[32m53\u001b[39m A, tangent_features = \u001b[43mcompute_tangent_features\u001b[49m\u001b[43m(\u001b[49m\u001b[43mfeatures\u001b[49m\u001b[43m)\u001b[49m\n",
      "\u001b[36mCell\u001b[39m\u001b[36m \u001b[39m\u001b[32mIn[4]\u001b[39m\u001b[32m, line 34\u001b[39m, in \u001b[36mcompute_tangent_features\u001b[39m\u001b[34m(F_np)\u001b[39m\n\u001b[32m     31\u001b[39m A_tensor = torch.matmul(F_T, F_device) / n\n\u001b[32m     32\u001b[39m summarize_tensor_stats(\u001b[33m\"\u001b[39m\u001b[33mA = F^T F / n\u001b[39m\u001b[33m\"\u001b[39m, A_tensor)\n\u001b[32m---> \u001b[39m\u001b[32m34\u001b[39m FA_tensor = \u001b[43mtorch\u001b[49m\u001b[43m.\u001b[49m\u001b[43mmatmul\u001b[49m\u001b[43m(\u001b[49m\u001b[43mF_device\u001b[49m\u001b[43m,\u001b[49m\u001b[43m \u001b[49m\u001b[43mA_tensor\u001b[49m\u001b[43m)\u001b[49m\n\u001b[32m     35\u001b[39m summarize_tensor_stats(\u001b[33m\"\u001b[39m\u001b[33mF @ A\u001b[39m\u001b[33m\"\u001b[39m, FA_tensor)\n\u001b[32m     37\u001b[39m FA_np = FA_tensor.cpu().numpy()\n",
      "\u001b[31mOutOfMemoryError\u001b[39m: CUDA out of memory. Tried to allocate 8.79 GiB. GPU 0 has a total capacity of 79.20 GiB of which 3.15 GiB is free. Process 171519 has 57.55 GiB memory in use. Including non-PyTorch memory, this process has 18.49 GiB memory in use. Of the allocated memory 17.62 GiB is allocated by PyTorch, and 18.88 MiB is reserved by PyTorch but unallocated. If reserved but unallocated memory is large try setting PYTORCH_CUDA_ALLOC_CONF=expandable_segments:True to avoid fragmentation.  See documentation for Memory Management  (https://pytorch.org/docs/stable/notes/cuda.html#environment-variables)"
     ]
    }
   ],
   "source": [
    "# Tangent Kernel Feature Debugging Notebook\n",
    "\n",
    "import numpy as np\n",
    "import torch\n",
    "import os\n",
    "import glob\n",
    "\n",
    "# ---- Utility Functions ----\n",
    "def summarize_numpy_stats(name, array):\n",
    "    print(f\"[NumPy] {name} -> min: {np.min(array):.4f}, max: {np.max(array):.4f}, mean: {np.mean(array):.4f}\")\n",
    "\n",
    "def summarize_tensor_stats(name, tensor):\n",
    "    print(f\"[Torch] {name} -> min: {tensor.min().item():.4f}, max: {tensor.max().item():.4f}, mean: {tensor.mean().item():.4f}\")\n",
    "\n",
    "# ---- Load Real NPZ File ----\n",
    "def load_npz_features(npz_path):\n",
    "    print(f\"\\nLoading: {npz_path}\")\n",
    "    data = np.load(npz_path)\n",
    "    features = data['features']\n",
    "    labels = data['labels']\n",
    "    print(f\"Features shape: {features.shape}, Labels shape: {labels.shape}\")\n",
    "    summarize_numpy_stats(\"Loaded features\", features)\n",
    "    return features, labels\n",
    "\n",
    "# ---- Compute and Check Tangent Kernel ----\n",
    "def compute_tangent_features(F_np):\n",
    "    F_tensor = torch.from_numpy(F_np).float()\n",
    "    F_T = F_tensor.T.to(\"cuda:0\")\n",
    "    F_device = F_tensor.to(\"cuda:0\")\n",
    "    n = F_tensor.shape[0]\n",
    "    A_tensor = torch.matmul(F_T, F_device) / n\n",
    "    summarize_tensor_stats(\"A = F^T F / n\", A_tensor)\n",
    "\n",
    "    FA_tensor = torch.matmul(F_device, A_tensor)\n",
    "    summarize_tensor_stats(\"F @ A\", FA_tensor)\n",
    "\n",
    "    FA_np = FA_tensor.cpu().numpy()\n",
    "    summarize_numpy_stats(\"F @ A (numpy)\", FA_np)\n",
    "    return A_tensor.cpu().numpy(), FA_np\n",
    "\n",
    "# ---- Process All Files in Folder ----\n",
    "def process_all_npz_files(folder_path):\n",
    "    npz_files = sorted(glob.glob(os.path.join(folder_path, \"*.npz\")))\n",
    "    if not npz_files:\n",
    "        print(f\"No .npz files found in {folder_path}\")\n",
    "        return\n",
    "\n",
    "    print(f\"Found {len(npz_files)} .npz files in {folder_path}\")\n",
    "\n",
    "    for i, file_path in enumerate(npz_files):\n",
    "        print(f\"\\n[{i+1}/{len(npz_files)}] Processing {file_path}\")\n",
    "        features, labels = load_npz_features(file_path)\n",
    "        A, tangent_features = compute_tangent_features(features)\n",
    "\n",
    "# ---- Run on Folder ----\n",
    "folder_path = \"/scratch/bowenxi/dit/neural_tangent_kernel/feature_swin_b/auto_ML_CA_1/auto_ML_CA/\"\n",
    "process_all_npz_files(folder_path)\n"
   ]
  },
  {
   "cell_type": "code",
   "execution_count": null,
   "id": "8902f9bb-94a6-4e3a-a95e-f89c451dfe47",
   "metadata": {},
   "outputs": [],
   "source": []
  }
 ],
 "metadata": {
  "kernelspec": {
   "display_name": "DiT",
   "language": "python",
   "name": "dit"
  },
  "language_info": {
   "codemirror_mode": {
    "name": "ipython",
    "version": 3
   },
   "file_extension": ".py",
   "mimetype": "text/x-python",
   "name": "python",
   "nbconvert_exporter": "python",
   "pygments_lexer": "ipython3",
   "version": "3.12.2"
  }
 },
 "nbformat": 4,
 "nbformat_minor": 5
}
