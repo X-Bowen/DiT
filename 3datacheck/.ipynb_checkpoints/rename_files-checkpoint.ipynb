{
 "cells": [
  {
   "cell_type": "code",
   "execution_count": null,
   "id": "25e6def2-4901-4122-aca0-68530e37e8fc",
   "metadata": {},
   "outputs": [],
   "source": [
    "import os\n",
    "import re\n",
    "\n",
    "# Replace this with the actual path to your target directory\n",
    "target_dir = '/scratch/bowenxi/dit/neural_tangent_kernel/feature_swin_b/incremental_synthetic/'\n",
    "\n",
    "# Get all files in the target directory\n",
    "files = os.listdir(target_dir)\n",
    "\n",
    "# Filter for files starting with \"increment_\"\n",
    "increment_files = [f for f in files if f.startswith('increment_')]\n",
    "\n",
    "# Sort in reverse to prevent overwriting during renaming\n",
    "increment_files.sort(reverse=True)\n",
    "\n",
    "pattern = re.compile(r'increment_(\\d+)_(.+)')\n",
    "\n",
    "for filename in increment_files:\n",
    "    match = pattern.match(filename)\n",
    "    if match:\n",
    "        old_index = int(match.group(1))\n",
    "        suffix = match.group(2)\n",
    "        new_index = old_index - 1\n",
    "        new_filename = f'increment_{new_index}_{suffix}'\n",
    "        src = os.path.join(target_dir, filename)\n",
    "        dst = os.path.join(target_dir, new_filename)\n",
    "        print(f'Renaming: {filename} -> {new_filename}')\n",
    "        os.rename(src, dst)\n"
   ]
  }
 ],
 "metadata": {
  "kernelspec": {
   "display_name": "Python 3 (ipykernel)",
   "language": "python",
   "name": "python3"
  },
  "language_info": {
   "codemirror_mode": {
    "name": "ipython",
    "version": 3
   },
   "file_extension": ".py",
   "mimetype": "text/x-python",
   "name": "python",
   "nbconvert_exporter": "python",
   "pygments_lexer": "ipython3",
   "version": "3.12.9"
  }
 },
 "nbformat": 4,
 "nbformat_minor": 5
}
