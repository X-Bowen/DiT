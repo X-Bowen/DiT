{
 "cells": [
  {
   "cell_type": "code",
   "execution_count": 1,
   "id": "0f15b9cd-4119-4a92-b652-b1ebff614b09",
   "metadata": {},
   "outputs": [],
   "source": [
    "import numpy as np\n",
    "import os\n",
    "\n",
    "# Configuration (Modify these!)\n",
    "input_dir = \"/scratch/bowenxi/dit/data_gen/L_8/final_data/\"  # Directory with original .npz files\n",
    "output_dir = \"/scratch/bowenxi/dit/data_gen/L_8/final_npz_features_labels/\"  # Directory to save renamed files\n",
    "key_mapping = {\n",
    "    \"samples\": \"features\",  # Replace with your desired new key names\n",
    "    \"labels\": \"labels\"\n",
    "}\n",
    "\n",
    "# Ensure output directory exists\n",
    "os.makedirs(output_dir, exist_ok=True)\n",
    "\n",
    "# Process each .npz file\n",
    "for filename in os.listdir(input_dir):\n",
    "    if filename.endswith(\".npz\"):\n",
    "        filepath = os.path.join(input_dir, filename)\n",
    "        \n",
    "        # Load data and rename keys\n",
    "        with np.load(filepath) as data:\n",
    "            arrays = {key: data[key] for key in data.files}\n",
    "            \n",
    "            # Update keys according to key_mapping\n",
    "            for old_key, new_key in key_mapping.items():\n",
    "                if old_key in arrays:\n",
    "                    arrays[new_key] = arrays.pop(old_key)\n",
    "                    \n",
    "        # Save renamed data to output directory\n",
    "        output_path = os.path.join(output_dir, f\"renamed_{filename}\")\n",
    "        np.savez(output_path, **arrays)"
   ]
  },
  {
   "cell_type": "code",
   "execution_count": null,
   "id": "49db3497-5e40-4250-8e70-64fc46b6dcf0",
   "metadata": {},
   "outputs": [],
   "source": []
  }
 ],
 "metadata": {
  "kernelspec": {
   "display_name": "DiT",
   "language": "python",
   "name": "dit"
  },
  "language_info": {
   "codemirror_mode": {
    "name": "ipython",
    "version": 3
   },
   "file_extension": ".py",
   "mimetype": "text/x-python",
   "name": "python",
   "nbconvert_exporter": "python",
   "pygments_lexer": "ipython3",
   "version": "3.12.9"
  }
 },
 "nbformat": 4,
 "nbformat_minor": 5
}
