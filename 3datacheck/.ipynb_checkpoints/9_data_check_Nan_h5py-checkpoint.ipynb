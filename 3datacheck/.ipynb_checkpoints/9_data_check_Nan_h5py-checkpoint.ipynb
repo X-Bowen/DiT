{
 "cells": [
  {
   "cell_type": "code",
   "execution_count": 1,
   "id": "31e82e7c-bceb-405b-90e4-fe2e6de87e51",
   "metadata": {},
   "outputs": [
    {
     "name": "stdout",
     "output_type": "stream",
     "text": [
      "\n",
      "=== Checking /scratch/bowenxi/dit/data_gen/0330_6/0404_imagenet_latents.h5 ===\n",
      "Samples NaN count: 0\n",
      "Labels NaN count: 0\n",
      "\n",
      "Label statistics:\n",
      "Unique labels: [333 334 335]\n",
      "Label range: 333 - 335\n",
      "\n",
      "Feature statistics:\n",
      "Min: -1.0000\n",
      "Max: 1.0000\n",
      "Mean: 0.0040\n",
      "Std: 0.3547\n",
      "\n",
      "=== Validation passed - No NaN values found ===\n"
     ]
    }
   ],
   "source": [
    "import h5py\n",
    "import numpy as np\n",
    "\n",
    "def check_h5_nan(file_path):\n",
    "    \"\"\"Check flat HDF5 structure for NaN values\"\"\"\n",
    "    print(f\"\\n=== Checking {file_path} ===\")\n",
    "    \n",
    "    with h5py.File(file_path, 'r') as f:\n",
    "        # Verify required datasets exist\n",
    "        if 'samples' not in f or 'labels' not in f:\n",
    "            missing = [ds for ds in ['samples', 'labels'] if ds not in f]\n",
    "            raise KeyError(f\"Missing datasets: {missing}\")\n",
    "\n",
    "        # Check samples\n",
    "        samples = f['samples'][:]\n",
    "        sample_nans = np.isnan(samples).sum()\n",
    "        print(f\"Samples NaN count: {sample_nans}\")\n",
    "        \n",
    "        # Check labels\n",
    "        labels = f['labels'][:]\n",
    "        label_nans = np.isnan(labels).sum()\n",
    "        print(f\"Labels NaN count: {label_nans}\")\n",
    "        \n",
    "        # Additional validation\n",
    "        print(\"\\nLabel statistics:\")\n",
    "        print(f\"Unique labels: {np.unique(labels)}\")\n",
    "        print(f\"Label range: {labels.min()} - {labels.max()}\")\n",
    "        \n",
    "        print(\"\\nFeature statistics:\")\n",
    "        print(f\"Min: {samples.min():.4f}\")\n",
    "        print(f\"Max: {samples.max():.4f}\")\n",
    "        print(f\"Mean: {samples.mean():.4f}\")\n",
    "        print(f\"Std: {samples.std():.4f}\")\n",
    "        \n",
    "        if sample_nans > 0 or label_nans > 0:\n",
    "            raise ValueError(\"NaN values detected in dataset!\")\n",
    "    \n",
    "    print(\"\\n=== Validation passed - No NaN values found ===\")\n",
    "\n",
    "if __name__ == \"__main__\":\n",
    "    # Update this path to your HDF5 file\n",
    "    HDF5_PATH = \"/scratch/bowenxi/dit/data_gen/0330_5/0404_imagenet_latents.h5\"\n",
    "    \n",
    "    try:\n",
    "        check_h5_nan(HDF5_PATH)\n",
    "    except Exception as e:\n",
    "        print(f\"\\nERROR: {str(e)}\")\n",
    "        print(\"Recommended actions:\")\n",
    "        print(\"1. Check data generation code for NaN sources\")\n",
    "        print(\"2. Verify standardization/normalization process\")\n",
    "        print(\"3. Re-generate data if NaNs found\")"
   ]
  },
  {
   "cell_type": "code",
   "execution_count": null,
   "id": "af2382b4-f847-4cfd-a12d-1b823daf586e",
   "metadata": {},
   "outputs": [],
   "source": []
  },
  {
   "cell_type": "code",
   "execution_count": null,
   "id": "c4c35833-ad50-42e1-addc-43df23a4538a",
   "metadata": {},
   "outputs": [],
   "source": []
  }
 ],
 "metadata": {
  "kernelspec": {
   "display_name": "DiT",
   "language": "python",
   "name": "dit"
  },
  "language_info": {
   "codemirror_mode": {
    "name": "ipython",
    "version": 3
   },
   "file_extension": ".py",
   "mimetype": "text/x-python",
   "name": "python",
   "nbconvert_exporter": "python",
   "pygments_lexer": "ipython3",
   "version": "3.12.9"
  }
 },
 "nbformat": 4,
 "nbformat_minor": 5
}
