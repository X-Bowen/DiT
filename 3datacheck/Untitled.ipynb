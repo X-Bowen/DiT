{
 "cells": [
  {
   "cell_type": "code",
   "execution_count": null,
   "id": "de25aee6-1934-4bc0-a29f-b0d440d519fb",
   "metadata": {},
   "outputs": [
    {
     "name": "stdout",
     "output_type": "stream",
     "text": [
      "increment_4_val_tangent.npz keys: ['features', 'labels']\n",
      "Updated increment_4_val_tangent.npz with keys: ['features', 'labels']\n",
      "increment_10_val_tangent.npz keys: ['features', 'labels']\n",
      "Updated increment_10_val_tangent.npz with keys: ['features', 'labels']\n",
      "increment_5_val_tangent.npz keys: ['features', 'labels']\n",
      "Updated increment_5_val_tangent.npz with keys: ['features', 'labels']\n",
      "increment_6_val_tangent.npz keys: ['features', 'labels']\n",
      "Updated increment_6_val_tangent.npz with keys: ['features', 'labels']\n",
      "original_val_tangent.npz keys: ['features', 'labels']\n",
      "Updated original_val_tangent.npz with keys: ['features', 'labels']\n",
      "increment_9_train_tangent.npz keys: ['features', 'labels']\n",
      "Updated increment_9_train_tangent.npz with keys: ['features', 'labels']\n",
      "increment_2_train_tangent.npz keys: ['features', 'labels']\n"
     ]
    }
   ],
   "source": [
    "import os\n",
    "import numpy as np\n",
    "\n",
    "# Set your directory path\n",
    "directory = \"/scratch/bowenxi/dit/neural_tangent_kernel/feature_swin_b/incremental_synthetic/\"\n",
    "\n",
    "for filename in os.listdir(directory):\n",
    "    if filename.endswith(\".npz\"):\n",
    "        filepath = os.path.join(directory, filename)\n",
    "        data = np.load(filepath)\n",
    "        keys = list(data.keys())\n",
    "        print(f\"{filename} keys: {keys}\")\n",
    "        \n",
    "        if len(keys) == 2:\n",
    "            features_key, labels_key = keys\n",
    "            features = data[features_key]\n",
    "            labels = data[labels_key]\n",
    "\n",
    "            # Save with standardized keys\n",
    "            new_filepath = os.path.join(directory, filename)\n",
    "            np.savez(new_filepath, features=features, labels=labels)\n",
    "            print(f\"Updated {filename} with keys: ['features', 'labels']\")\n",
    "        else:\n",
    "            print(f\"Skipping {filename}: expected 2 keys, found {len(keys)}\")\n"
   ]
  },
  {
   "cell_type": "code",
   "execution_count": null,
   "id": "7a7bdaa0-b005-4153-ae06-07bd72b98cdf",
   "metadata": {},
   "outputs": [],
   "source": []
  }
 ],
 "metadata": {
  "kernelspec": {
   "display_name": "Python 3 (ipykernel)",
   "language": "python",
   "name": "python3"
  },
  "language_info": {
   "codemirror_mode": {
    "name": "ipython",
    "version": 3
   },
   "file_extension": ".py",
   "mimetype": "text/x-python",
   "name": "python",
   "nbconvert_exporter": "python",
   "pygments_lexer": "ipython3",
   "version": "3.12.9"
  }
 },
 "nbformat": 4,
 "nbformat_minor": 5
}
