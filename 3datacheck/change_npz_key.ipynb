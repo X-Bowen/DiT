{
 "cells": [
  {
   "cell_type": "code",
   "execution_count": 1,
   "id": "0f15b9cd-4119-4a92-b652-b1ebff614b09",
   "metadata": {},
   "outputs": [],
   "source": [
    "import numpy as np\n",
    "import os\n",
    "\n",
    "# Configuration (Modify these!)\n",
    "input_dir = \"/scratch/bowenxi/dit/neural_tangent_kernel/\"  # Directory with original .npz files\n",
    "output_dir = \"/scratch/bowenxi/dit/neural_tangent_kernel/feature_swin_b/\"  # Directory to save renamed files\n",
    "key_mapping = {\n",
    "    \"samples\": \"features\",  # Replace with your desired new key names\n",
    "    \"labels\": \"labels\"\n",
    "}\n",
    "\n",
    "# Ensure output directory exists\n",
    "os.makedirs(output_dir, exist_ok=True)\n",
    "\n",
    "# Process each .npz file\n",
    "for filename in os.listdir(input_dir):\n",
    "    if filename.endswith(\".npz\"):\n",
    "        filepath = os.path.join(input_dir, filename)\n",
    "        \n",
    "        # Load data and rename keys\n",
    "        with np.load(filepath) as data:\n",
    "            arrays = {key: data[key] for key in data.files}\n",
    "            \n",
    "            # Update keys according to key_mapping\n",
    "            for old_key, new_key in key_mapping.items():\n",
    "                if old_key in arrays:\n",
    "                    arrays[new_key] = arrays.pop(old_key)\n",
    "                    \n",
    "        # Save renamed data to output directory\n",
    "        output_path = os.path.join(output_dir, f\"renamed_{filename}\")\n",
    "        np.savez(output_path, **arrays)"
   ]
  },
  {
   "cell_type": "code",
   "execution_count": 6,
   "id": "49db3497-5e40-4250-8e70-64fc46b6dcf0",
   "metadata": {},
   "outputs": [
    {
     "name": "stdout",
     "output_type": "stream",
     "text": [
      "Keys in the npz file: ['feature', 'label']\n"
     ]
    }
   ],
   "source": [
    "import numpy as np\n",
    "\n",
    "# Load the npz file (replace 'data.npz' with your filename)\n",
    "data = np.load('/scratch/bowenxi/dit/neural_tangent_kernel/feature_swin_b/renamed_result.npz')\n",
    "#data = np.load('/data/yyang409/bowen/imagenet_feature/swin_base/patch4_window7_224/image_features_w_label_val.npz')\n",
    "\n",
    "# Print the keys in the npz file\n",
    "print(\"Keys in the npz file:\", data.files)\n"
   ]
  },
  {
   "cell_type": "code",
   "execution_count": null,
   "id": "1380fda4-a54e-49ca-b0a7-8ead7a2692fe",
   "metadata": {},
   "outputs": [],
   "source": []
  }
 ],
 "metadata": {
  "kernelspec": {
   "display_name": "DiT",
   "language": "python",
   "name": "dit"
  },
  "language_info": {
   "codemirror_mode": {
    "name": "ipython",
    "version": 3
   },
   "file_extension": ".py",
   "mimetype": "text/x-python",
   "name": "python",
   "nbconvert_exporter": "python",
   "pygments_lexer": "ipython3",
   "version": "3.12.2"
  }
 },
 "nbformat": 4,
 "nbformat_minor": 5
}
