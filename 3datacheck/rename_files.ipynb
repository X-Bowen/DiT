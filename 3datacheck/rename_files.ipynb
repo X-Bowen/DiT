{
 "cells": [
  {
   "cell_type": "code",
   "execution_count": 1,
   "id": "25e6def2-4901-4122-aca0-68530e37e8fc",
   "metadata": {},
   "outputs": [
    {
     "name": "stdout",
     "output_type": "stream",
     "text": [
      "Renaming: increment_9_val_tangent.npz -> increment_8_val_tangent.npz\n",
      "Renaming: increment_9_train_tangent.npz -> increment_8_train_tangent.npz\n",
      "Renaming: increment_9_A_matrix.npy -> increment_8_A_matrix.npy\n",
      "Renaming: increment_8_val_tangent.npz -> increment_7_val_tangent.npz\n",
      "Renaming: increment_8_train_tangent.npz -> increment_7_train_tangent.npz\n",
      "Renaming: increment_8_A_matrix.npy -> increment_7_A_matrix.npy\n",
      "Renaming: increment_7_val_tangent.npz -> increment_6_val_tangent.npz\n",
      "Renaming: increment_7_train_tangent.npz -> increment_6_train_tangent.npz\n",
      "Renaming: increment_7_A_matrix.npy -> increment_6_A_matrix.npy\n",
      "Renaming: increment_6_val_tangent.npz -> increment_5_val_tangent.npz\n",
      "Renaming: increment_6_train_tangent.npz -> increment_5_train_tangent.npz\n",
      "Renaming: increment_6_A_matrix.npy -> increment_5_A_matrix.npy\n",
      "Renaming: increment_5_val_tangent.npz -> increment_4_val_tangent.npz\n",
      "Renaming: increment_5_train_tangent.npz -> increment_4_train_tangent.npz\n",
      "Renaming: increment_5_A_matrix.npy -> increment_4_A_matrix.npy\n",
      "Renaming: increment_4_val_tangent.npz -> increment_3_val_tangent.npz\n",
      "Renaming: increment_4_train_tangent.npz -> increment_3_train_tangent.npz\n",
      "Renaming: increment_4_A_matrix.npy -> increment_3_A_matrix.npy\n",
      "Renaming: increment_3_val_tangent.npz -> increment_2_val_tangent.npz\n",
      "Renaming: increment_3_train_tangent.npz -> increment_2_train_tangent.npz\n",
      "Renaming: increment_3_A_matrix.npy -> increment_2_A_matrix.npy\n",
      "Renaming: increment_2_val_tangent.npz -> increment_1_val_tangent.npz\n",
      "Renaming: increment_2_train_tangent.npz -> increment_1_train_tangent.npz\n",
      "Renaming: increment_2_A_matrix.npy -> increment_1_A_matrix.npy\n",
      "Renaming: increment_1_val_tangent.npz -> increment_0_val_tangent.npz\n",
      "Renaming: increment_1_train_tangent.npz -> increment_0_train_tangent.npz\n",
      "Renaming: increment_1_A_matrix.npy -> increment_0_A_matrix.npy\n",
      "Renaming: increment_10_val_tangent.npz -> increment_9_val_tangent.npz\n",
      "Renaming: increment_10_train_tangent.npz -> increment_9_train_tangent.npz\n",
      "Renaming: increment_10_A_matrix.npy -> increment_9_A_matrix.npy\n"
     ]
    }
   ],
   "source": [
    "import os\n",
    "import re\n",
    "\n",
    "# Replace this with the actual path to your target directory\n",
    "target_dir = '/scratch/bowenxi/dit/neural_tangent_kernel/feature_swin_b/incremental_synthetic/'\n",
    "\n",
    "# Get all files in the target directory\n",
    "files = os.listdir(target_dir)\n",
    "\n",
    "# Filter for files starting with \"increment_\"\n",
    "increment_files = [f for f in files if f.startswith('increment_')]\n",
    "\n",
    "# Sort in reverse to prevent overwriting during renaming\n",
    "increment_files.sort(reverse=True)\n",
    "\n",
    "pattern = re.compile(r'increment_(\\d+)_(.+)')\n",
    "\n",
    "for filename in increment_files:\n",
    "    match = pattern.match(filename)\n",
    "    if match:\n",
    "        old_index = int(match.group(1))\n",
    "        suffix = match.group(2)\n",
    "        new_index = old_index - 1\n",
    "        new_filename = f'increment_{new_index}_{suffix}'\n",
    "        src = os.path.join(target_dir, filename)\n",
    "        dst = os.path.join(target_dir, new_filename)\n",
    "        print(f'Renaming: {filename} -> {new_filename}')\n",
    "        os.rename(src, dst)\n"
   ]
  },
  {
   "cell_type": "code",
   "execution_count": null,
   "id": "5785923f-13fe-431c-b518-650d4d9d42ef",
   "metadata": {},
   "outputs": [],
   "source": []
  }
 ],
 "metadata": {
  "kernelspec": {
   "display_name": "Python 3 (ipykernel)",
   "language": "python",
   "name": "python3"
  },
  "language_info": {
   "codemirror_mode": {
    "name": "ipython",
    "version": 3
   },
   "file_extension": ".py",
   "mimetype": "text/x-python",
   "name": "python",
   "nbconvert_exporter": "python",
   "pygments_lexer": "ipython3",
   "version": "3.12.9"
  }
 },
 "nbformat": 4,
 "nbformat_minor": 5
}
